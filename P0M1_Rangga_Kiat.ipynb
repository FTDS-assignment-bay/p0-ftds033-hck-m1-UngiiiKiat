{
 "cells": [
  {
   "cell_type": "markdown",
   "id": "ebf0487a",
   "metadata": {},
   "source": [
    "# MILES STONE"
   ]
  },
  {
   "cell_type": "markdown",
   "id": "837d859e",
   "metadata": {},
   "source": [
    "## __*Introduction*__\n",
    "---\n",
    "---\n",
    "\n",
    "Nama: Rangga Irwanto Putra Kiat\n",
    "\n",
    "Batch: HCK-33\n",
    "\n",
    "---\n",
    "---\n"
   ]
  },
  {
   "cell_type": "markdown",
   "id": "5bca1141",
   "metadata": {},
   "source": [
    "## __*Problem Statement and Dataset Description*__"
   ]
  },
  {
   "cell_type": "markdown",
   "id": "1036954e",
   "metadata": {},
   "source": [
    "### *Identifikasi Masalah*\n",
    "\n",
    "##### *Latar Belakang*\n",
    "\n",
    "Industri video game adalah pasar yang sangat kompetitif dan terus berkembang. Setiap tahun, ribuan game baru dirilis di berbagai platform, bersaing untuk mendapatkan perhatian dan pengeluaran dari konsumen. Bagi sebuah perusahaan pengembang atau penerbit game, memahami tren pasar adalah kunci untuk membuat keputusan strategis yang tepat. Analisis data penjualan historis dapat memberikan wawasan berharga mengenai preferensi genre, popularitas platform, dan kinerja pasar di berbagai wilayah. Dengan wawasan ini, perusahaan dapat mengoptimalkan strategi pengembangan dan pemasaran untuk memaksimalkan peluang keberhasilan game baru yang akan diluncurkan.\n",
    "\n",
    "##### *Problem Statement (SMART Framework)*\n",
    "\n",
    "**Problem Statement :**\n",
    "\n",
    "*Perusahaan membutuhkan rekomendasi berbasis data untuk menentukan genre dan platform paling strategis bagi game baru yang akan diluncurkan pada 2026. Untuk itu, diperlukan analisis cepat (dalam dua minggu) terhadap data penjualan historis guna mengidentifikasi tren pasar paling menguntungkan dan memberikan arahan pengembangan produk yang jelas*\n",
    "\n",
    "\n",
    "1. **Specific** : Menganalisis data penjualan video game dari tahun 1980 hingga 2020 untuk mengidentifikasi genre, platform, dan penerbit yang paling sukses secara global. Tujuannya adalah untuk memberikan rekomendasi berbasis data kepada tim pengembangan produk dalam merancang game baru yang akan diluncurkan pada tahun 2026.\n",
    "\n",
    "\n",
    "\n",
    "\n",
    "2. **Measurable** : Keberhasilan proyek ini diukur dengan tersedianya laporan analisis yang berisi: \n",
    "\n",
    "    * 5 genre game teratas dengan penjualan global tertinggi, \n",
    "\n",
    "    * 3 platform game dengan pangsa pasar terbesar di Amerika Utara, Eropa, dan Jepang.\n",
    "\n",
    "    * analisis statistik perbedaan penjualan antara dua platform kompetitor utama.\n",
    "\n",
    "\n",
    "\n",
    "\n",
    "\n",
    "3. **Achievable** : Tujuan ini dapat dicapai karena data yang diperlukan tersedia dalam dataset yang diberikan, yang mencakup informasi lengkap mengenai nama game, genre, platform, tahun rilis, penerbit, dan angka penjualan di berbagai wilayah.\n",
    "\n",
    "\n",
    "4.  **Relevant** : Analisis ini sangat relevan bagi perusahaan untuk mengurangi risiko kegagalan produk dan meningkatkan potensi pendapatan dengan membuat keputusan yang didukung oleh data historis pasar.\n",
    "\n",
    "\n",
    "5. **Time-bound** : Seluruh analisis dan rekomendasi harus diselesaikan dalam waktu dua minggu untuk dapat diintegrasikan ke dalam siklus perencanaan produk kuartal berikutnya."
   ]
  },
  {
   "cell_type": "markdown",
   "id": "348d086f",
   "metadata": {},
   "source": [
    "##### *Penjabaran Masalah*\n",
    "\n",
    "Berikut ialah penjabaran apa saja masalah yang akan dijawab melalui analisis dan visualisasi:\n",
    "\n",
    "**Untuk Visualisasi Data:**\n",
    "\n",
    "1. Genre game apa saja yang memiliki penjualan global (Global_Sales) tertinggi sepanjang masa?\n",
    "\n",
    "2. Bagaimana tren total penjualan game global dari tahun ke tahun? Apakah industri ini terus bertumbuh?\n",
    "\n",
    "3. Platform game mana yang paling dominan di tiga pasar terbesar: Amerika Utara *(NA_Sales)*, Eropa *(EU_Sales)*, dan Jepang *(JP_Sales)*?\n",
    "\n",
    "4. Siapa saja penerbit (publisher) yang merilis game paling banyak?\n",
    "\n",
    "**Untuk Statistik Deskriptif:**\n",
    "\n",
    "5. Bagaimana distribusi data penjualan global untuk genre game yang paling populer (misalnya, 'Action')? (Akan dianalisis menggunakan central tendency dan measure of variance).\n",
    "\n",
    "**Untuk Statistik Inferensial:**\n",
    "\n",
    "6. Apakah terdapat perbedaan signifikan secara statistik dalam hal penjualan global antara game yang dirilis di platform 'PS4' dan 'Xbox One'? (Akan diuji menggunakan hypothesis testing).\n",
    "\n"
   ]
  },
  {
   "cell_type": "markdown",
   "id": "b86e0483",
   "metadata": {},
   "source": [
    "##### *Dataset Description*\n",
    "Dataset yang digunakan adalah \"Video Game Sales with Ratings\" yang bersumber dari website Kaggle. Dataset ini berisi daftar video game dengan penjualan lebih dari 100.000 kopi dan mencakup berbagai atribut seperti genre, platform, tahun rilis, dan data penjualan regional.\n",
    "\n",
    "**Sumber Data yang di ambil**: https://www.kaggle.com/datasets/gregorut/videogamesales"
   ]
  },
  {
   "cell_type": "markdown",
   "id": "90fcba01",
   "metadata": {},
   "source": [
    "## __*Data Loading*__"
   ]
  },
  {
   "cell_type": "markdown",
   "id": "298bd4f8",
   "metadata": {},
   "source": [
    "#### *Import Library*\n",
    "\n",
    "Library yang digunakan untuk data assignment ini"
   ]
  },
  {
   "cell_type": "code",
   "execution_count": 937,
   "id": "8bde7e6f",
   "metadata": {},
   "outputs": [],
   "source": [
    "# Masukan package\n",
    "import numpy as np\n",
    "import pandas as pd\n",
    "import seaborn as sns\n",
    "from scipy import stats\n",
    "import matplotlib.pyplot as plt"
   ]
  },
  {
   "cell_type": "code",
   "execution_count": 938,
   "id": "bbd90e57",
   "metadata": {},
   "outputs": [],
   "source": [
    "# Memuat dataset menggunakan csv\n",
    "df = pd.read_csv('POM1_Rangga_Kiat_dataset.csv')"
   ]
  },
  {
   "cell_type": "code",
   "execution_count": 939,
   "id": "e9f9ae27",
   "metadata": {},
   "outputs": [
    {
     "name": "stdout",
     "output_type": "stream",
     "text": [
      "Tampilan 10 baris pertama dataset:\n"
     ]
    },
    {
     "data": {
      "application/vnd.microsoft.datawrangler.viewer.v0+json": {
       "columns": [
        {
         "name": "index",
         "rawType": "int64",
         "type": "integer"
        },
        {
         "name": "Rank",
         "rawType": "int64",
         "type": "integer"
        },
        {
         "name": "Name",
         "rawType": "object",
         "type": "string"
        },
        {
         "name": "Platform",
         "rawType": "object",
         "type": "string"
        },
        {
         "name": "Year",
         "rawType": "float64",
         "type": "float"
        },
        {
         "name": "Genre",
         "rawType": "object",
         "type": "string"
        },
        {
         "name": "Publisher",
         "rawType": "object",
         "type": "string"
        },
        {
         "name": "NA_Sales",
         "rawType": "float64",
         "type": "float"
        },
        {
         "name": "EU_Sales",
         "rawType": "float64",
         "type": "float"
        },
        {
         "name": "JP_Sales",
         "rawType": "float64",
         "type": "float"
        },
        {
         "name": "Other_Sales",
         "rawType": "float64",
         "type": "float"
        },
        {
         "name": "Global_Sales",
         "rawType": "float64",
         "type": "float"
        }
       ],
       "ref": "10e31e09-bf5d-46ff-858b-518b75a4d232",
       "rows": [
        [
         "0",
         "1",
         "Wii Sports",
         "Wii",
         "2006.0",
         "Sports",
         "Nintendo",
         "41.49",
         "29.02",
         "3.77",
         "8.46",
         "82.74"
        ],
        [
         "1",
         "2",
         "Super Mario Bros.",
         "NES",
         "1985.0",
         "Platform",
         "Nintendo",
         "29.08",
         "3.58",
         "6.81",
         "0.77",
         "40.24"
        ],
        [
         "2",
         "3",
         "Mario Kart Wii",
         "Wii",
         "2008.0",
         "Racing",
         "Nintendo",
         "15.85",
         "12.88",
         "3.79",
         "3.31",
         "35.82"
        ],
        [
         "3",
         "4",
         "Wii Sports Resort",
         "Wii",
         "2009.0",
         "Sports",
         "Nintendo",
         "15.75",
         "11.01",
         "3.28",
         "2.96",
         "33.0"
        ],
        [
         "4",
         "5",
         "Pokemon Red/Pokemon Blue",
         "GB",
         "1996.0",
         "Role-Playing",
         "Nintendo",
         "11.27",
         "8.89",
         "10.22",
         "1.0",
         "31.37"
        ],
        [
         "5",
         "6",
         "Tetris",
         "GB",
         "1989.0",
         "Puzzle",
         "Nintendo",
         "23.2",
         "2.26",
         "4.22",
         "0.58",
         "30.26"
        ],
        [
         "6",
         "7",
         "New Super Mario Bros.",
         "DS",
         "2006.0",
         "Platform",
         "Nintendo",
         "11.38",
         "9.23",
         "6.5",
         "2.9",
         "30.01"
        ],
        [
         "7",
         "8",
         "Wii Play",
         "Wii",
         "2006.0",
         "Misc",
         "Nintendo",
         "14.03",
         "9.2",
         "2.93",
         "2.85",
         "29.02"
        ],
        [
         "8",
         "9",
         "New Super Mario Bros. Wii",
         "Wii",
         "2009.0",
         "Platform",
         "Nintendo",
         "14.59",
         "7.06",
         "4.7",
         "2.26",
         "28.62"
        ],
        [
         "9",
         "10",
         "Duck Hunt",
         "NES",
         "1984.0",
         "Shooter",
         "Nintendo",
         "26.93",
         "0.63",
         "0.28",
         "0.47",
         "28.31"
        ]
       ],
       "shape": {
        "columns": 11,
        "rows": 10
       }
      },
      "text/html": [
       "<div>\n",
       "<style scoped>\n",
       "    .dataframe tbody tr th:only-of-type {\n",
       "        vertical-align: middle;\n",
       "    }\n",
       "\n",
       "    .dataframe tbody tr th {\n",
       "        vertical-align: top;\n",
       "    }\n",
       "\n",
       "    .dataframe thead th {\n",
       "        text-align: right;\n",
       "    }\n",
       "</style>\n",
       "<table border=\"1\" class=\"dataframe\">\n",
       "  <thead>\n",
       "    <tr style=\"text-align: right;\">\n",
       "      <th></th>\n",
       "      <th>Rank</th>\n",
       "      <th>Name</th>\n",
       "      <th>Platform</th>\n",
       "      <th>Year</th>\n",
       "      <th>Genre</th>\n",
       "      <th>Publisher</th>\n",
       "      <th>NA_Sales</th>\n",
       "      <th>EU_Sales</th>\n",
       "      <th>JP_Sales</th>\n",
       "      <th>Other_Sales</th>\n",
       "      <th>Global_Sales</th>\n",
       "    </tr>\n",
       "  </thead>\n",
       "  <tbody>\n",
       "    <tr>\n",
       "      <th>0</th>\n",
       "      <td>1</td>\n",
       "      <td>Wii Sports</td>\n",
       "      <td>Wii</td>\n",
       "      <td>2006.0</td>\n",
       "      <td>Sports</td>\n",
       "      <td>Nintendo</td>\n",
       "      <td>41.49</td>\n",
       "      <td>29.02</td>\n",
       "      <td>3.77</td>\n",
       "      <td>8.46</td>\n",
       "      <td>82.74</td>\n",
       "    </tr>\n",
       "    <tr>\n",
       "      <th>1</th>\n",
       "      <td>2</td>\n",
       "      <td>Super Mario Bros.</td>\n",
       "      <td>NES</td>\n",
       "      <td>1985.0</td>\n",
       "      <td>Platform</td>\n",
       "      <td>Nintendo</td>\n",
       "      <td>29.08</td>\n",
       "      <td>3.58</td>\n",
       "      <td>6.81</td>\n",
       "      <td>0.77</td>\n",
       "      <td>40.24</td>\n",
       "    </tr>\n",
       "    <tr>\n",
       "      <th>2</th>\n",
       "      <td>3</td>\n",
       "      <td>Mario Kart Wii</td>\n",
       "      <td>Wii</td>\n",
       "      <td>2008.0</td>\n",
       "      <td>Racing</td>\n",
       "      <td>Nintendo</td>\n",
       "      <td>15.85</td>\n",
       "      <td>12.88</td>\n",
       "      <td>3.79</td>\n",
       "      <td>3.31</td>\n",
       "      <td>35.82</td>\n",
       "    </tr>\n",
       "    <tr>\n",
       "      <th>3</th>\n",
       "      <td>4</td>\n",
       "      <td>Wii Sports Resort</td>\n",
       "      <td>Wii</td>\n",
       "      <td>2009.0</td>\n",
       "      <td>Sports</td>\n",
       "      <td>Nintendo</td>\n",
       "      <td>15.75</td>\n",
       "      <td>11.01</td>\n",
       "      <td>3.28</td>\n",
       "      <td>2.96</td>\n",
       "      <td>33.00</td>\n",
       "    </tr>\n",
       "    <tr>\n",
       "      <th>4</th>\n",
       "      <td>5</td>\n",
       "      <td>Pokemon Red/Pokemon Blue</td>\n",
       "      <td>GB</td>\n",
       "      <td>1996.0</td>\n",
       "      <td>Role-Playing</td>\n",
       "      <td>Nintendo</td>\n",
       "      <td>11.27</td>\n",
       "      <td>8.89</td>\n",
       "      <td>10.22</td>\n",
       "      <td>1.00</td>\n",
       "      <td>31.37</td>\n",
       "    </tr>\n",
       "    <tr>\n",
       "      <th>5</th>\n",
       "      <td>6</td>\n",
       "      <td>Tetris</td>\n",
       "      <td>GB</td>\n",
       "      <td>1989.0</td>\n",
       "      <td>Puzzle</td>\n",
       "      <td>Nintendo</td>\n",
       "      <td>23.20</td>\n",
       "      <td>2.26</td>\n",
       "      <td>4.22</td>\n",
       "      <td>0.58</td>\n",
       "      <td>30.26</td>\n",
       "    </tr>\n",
       "    <tr>\n",
       "      <th>6</th>\n",
       "      <td>7</td>\n",
       "      <td>New Super Mario Bros.</td>\n",
       "      <td>DS</td>\n",
       "      <td>2006.0</td>\n",
       "      <td>Platform</td>\n",
       "      <td>Nintendo</td>\n",
       "      <td>11.38</td>\n",
       "      <td>9.23</td>\n",
       "      <td>6.50</td>\n",
       "      <td>2.90</td>\n",
       "      <td>30.01</td>\n",
       "    </tr>\n",
       "    <tr>\n",
       "      <th>7</th>\n",
       "      <td>8</td>\n",
       "      <td>Wii Play</td>\n",
       "      <td>Wii</td>\n",
       "      <td>2006.0</td>\n",
       "      <td>Misc</td>\n",
       "      <td>Nintendo</td>\n",
       "      <td>14.03</td>\n",
       "      <td>9.20</td>\n",
       "      <td>2.93</td>\n",
       "      <td>2.85</td>\n",
       "      <td>29.02</td>\n",
       "    </tr>\n",
       "    <tr>\n",
       "      <th>8</th>\n",
       "      <td>9</td>\n",
       "      <td>New Super Mario Bros. Wii</td>\n",
       "      <td>Wii</td>\n",
       "      <td>2009.0</td>\n",
       "      <td>Platform</td>\n",
       "      <td>Nintendo</td>\n",
       "      <td>14.59</td>\n",
       "      <td>7.06</td>\n",
       "      <td>4.70</td>\n",
       "      <td>2.26</td>\n",
       "      <td>28.62</td>\n",
       "    </tr>\n",
       "    <tr>\n",
       "      <th>9</th>\n",
       "      <td>10</td>\n",
       "      <td>Duck Hunt</td>\n",
       "      <td>NES</td>\n",
       "      <td>1984.0</td>\n",
       "      <td>Shooter</td>\n",
       "      <td>Nintendo</td>\n",
       "      <td>26.93</td>\n",
       "      <td>0.63</td>\n",
       "      <td>0.28</td>\n",
       "      <td>0.47</td>\n",
       "      <td>28.31</td>\n",
       "    </tr>\n",
       "  </tbody>\n",
       "</table>\n",
       "</div>"
      ],
      "text/plain": [
       "   Rank                       Name Platform    Year         Genre Publisher  \\\n",
       "0     1                 Wii Sports      Wii  2006.0        Sports  Nintendo   \n",
       "1     2          Super Mario Bros.      NES  1985.0      Platform  Nintendo   \n",
       "2     3             Mario Kart Wii      Wii  2008.0        Racing  Nintendo   \n",
       "3     4          Wii Sports Resort      Wii  2009.0        Sports  Nintendo   \n",
       "4     5   Pokemon Red/Pokemon Blue       GB  1996.0  Role-Playing  Nintendo   \n",
       "5     6                     Tetris       GB  1989.0        Puzzle  Nintendo   \n",
       "6     7      New Super Mario Bros.       DS  2006.0      Platform  Nintendo   \n",
       "7     8                   Wii Play      Wii  2006.0          Misc  Nintendo   \n",
       "8     9  New Super Mario Bros. Wii      Wii  2009.0      Platform  Nintendo   \n",
       "9    10                  Duck Hunt      NES  1984.0       Shooter  Nintendo   \n",
       "\n",
       "   NA_Sales  EU_Sales  JP_Sales  Other_Sales  Global_Sales  \n",
       "0     41.49     29.02      3.77         8.46         82.74  \n",
       "1     29.08      3.58      6.81         0.77         40.24  \n",
       "2     15.85     12.88      3.79         3.31         35.82  \n",
       "3     15.75     11.01      3.28         2.96         33.00  \n",
       "4     11.27      8.89     10.22         1.00         31.37  \n",
       "5     23.20      2.26      4.22         0.58         30.26  \n",
       "6     11.38      9.23      6.50         2.90         30.01  \n",
       "7     14.03      9.20      2.93         2.85         29.02  \n",
       "8     14.59      7.06      4.70         2.26         28.62  \n",
       "9     26.93      0.63      0.28         0.47         28.31  "
      ]
     },
     "execution_count": 939,
     "metadata": {},
     "output_type": "execute_result"
    }
   ],
   "source": [
    "# Menampilkan 10  baris pertama dari dataset\n",
    "print(\"Tampilan 10 baris pertama dataset:\")\n",
    "\n",
    "df.head(10)"
   ]
  },
  {
   "cell_type": "code",
   "execution_count": 940,
   "id": "8b50faf8",
   "metadata": {},
   "outputs": [
    {
     "name": "stdout",
     "output_type": "stream",
     "text": [
      "Tampilan 10 baris terakhir dataset:\n"
     ]
    },
    {
     "data": {
      "application/vnd.microsoft.datawrangler.viewer.v0+json": {
       "columns": [
        {
         "name": "index",
         "rawType": "int64",
         "type": "integer"
        },
        {
         "name": "Rank",
         "rawType": "int64",
         "type": "integer"
        },
        {
         "name": "Name",
         "rawType": "object",
         "type": "string"
        },
        {
         "name": "Platform",
         "rawType": "object",
         "type": "string"
        },
        {
         "name": "Year",
         "rawType": "float64",
         "type": "float"
        },
        {
         "name": "Genre",
         "rawType": "object",
         "type": "string"
        },
        {
         "name": "Publisher",
         "rawType": "object",
         "type": "string"
        },
        {
         "name": "NA_Sales",
         "rawType": "float64",
         "type": "float"
        },
        {
         "name": "EU_Sales",
         "rawType": "float64",
         "type": "float"
        },
        {
         "name": "JP_Sales",
         "rawType": "float64",
         "type": "float"
        },
        {
         "name": "Other_Sales",
         "rawType": "float64",
         "type": "float"
        },
        {
         "name": "Global_Sales",
         "rawType": "float64",
         "type": "float"
        }
       ],
       "ref": "efe7c195-a311-48ea-8bf6-7ffc5c4ef833",
       "rows": [
        [
         "16588",
         "16591",
         "Mega Brain Boost",
         "DS",
         "2008.0",
         "Puzzle",
         "Majesco Entertainment",
         "0.01",
         "0.0",
         "0.0",
         "0.0",
         "0.01"
        ],
        [
         "16589",
         "16592",
         "Chou Ezaru wa Akai Hana: Koi wa Tsuki ni Shirube Kareru",
         "PSV",
         "2016.0",
         "Action",
         "dramatic create",
         "0.0",
         "0.0",
         "0.01",
         "0.0",
         "0.01"
        ],
        [
         "16590",
         "16593",
         "Eiyuu Densetsu: Sora no Kiseki Material Collection Portable",
         "PSP",
         "2007.0",
         "Role-Playing",
         "Falcom Corporation",
         "0.0",
         "0.0",
         "0.01",
         "0.0",
         "0.01"
        ],
        [
         "16591",
         "16594",
         "Myst IV: Revelation",
         "PC",
         "2004.0",
         "Adventure",
         "Ubisoft",
         "0.01",
         "0.0",
         "0.0",
         "0.0",
         "0.01"
        ],
        [
         "16592",
         "16595",
         "Plushees",
         "DS",
         "2008.0",
         "Simulation",
         "Destineer",
         "0.01",
         "0.0",
         "0.0",
         "0.0",
         "0.01"
        ],
        [
         "16593",
         "16596",
         "Woody Woodpecker in Crazy Castle 5",
         "GBA",
         "2002.0",
         "Platform",
         "Kemco",
         "0.01",
         "0.0",
         "0.0",
         "0.0",
         "0.01"
        ],
        [
         "16594",
         "16597",
         "Men in Black II: Alien Escape",
         "GC",
         "2003.0",
         "Shooter",
         "Infogrames",
         "0.01",
         "0.0",
         "0.0",
         "0.0",
         "0.01"
        ],
        [
         "16595",
         "16598",
         "SCORE International Baja 1000: The Official Game",
         "PS2",
         "2008.0",
         "Racing",
         "Activision",
         "0.0",
         "0.0",
         "0.0",
         "0.0",
         "0.01"
        ],
        [
         "16596",
         "16599",
         "Know How 2",
         "DS",
         "2010.0",
         "Puzzle",
         "7G//AMES",
         "0.0",
         "0.01",
         "0.0",
         "0.0",
         "0.01"
        ],
        [
         "16597",
         "16600",
         "Spirits & Spells",
         "GBA",
         "2003.0",
         "Platform",
         "Wanadoo",
         "0.01",
         "0.0",
         "0.0",
         "0.0",
         "0.01"
        ]
       ],
       "shape": {
        "columns": 11,
        "rows": 10
       }
      },
      "text/html": [
       "<div>\n",
       "<style scoped>\n",
       "    .dataframe tbody tr th:only-of-type {\n",
       "        vertical-align: middle;\n",
       "    }\n",
       "\n",
       "    .dataframe tbody tr th {\n",
       "        vertical-align: top;\n",
       "    }\n",
       "\n",
       "    .dataframe thead th {\n",
       "        text-align: right;\n",
       "    }\n",
       "</style>\n",
       "<table border=\"1\" class=\"dataframe\">\n",
       "  <thead>\n",
       "    <tr style=\"text-align: right;\">\n",
       "      <th></th>\n",
       "      <th>Rank</th>\n",
       "      <th>Name</th>\n",
       "      <th>Platform</th>\n",
       "      <th>Year</th>\n",
       "      <th>Genre</th>\n",
       "      <th>Publisher</th>\n",
       "      <th>NA_Sales</th>\n",
       "      <th>EU_Sales</th>\n",
       "      <th>JP_Sales</th>\n",
       "      <th>Other_Sales</th>\n",
       "      <th>Global_Sales</th>\n",
       "    </tr>\n",
       "  </thead>\n",
       "  <tbody>\n",
       "    <tr>\n",
       "      <th>16588</th>\n",
       "      <td>16591</td>\n",
       "      <td>Mega Brain Boost</td>\n",
       "      <td>DS</td>\n",
       "      <td>2008.0</td>\n",
       "      <td>Puzzle</td>\n",
       "      <td>Majesco Entertainment</td>\n",
       "      <td>0.01</td>\n",
       "      <td>0.00</td>\n",
       "      <td>0.00</td>\n",
       "      <td>0.0</td>\n",
       "      <td>0.01</td>\n",
       "    </tr>\n",
       "    <tr>\n",
       "      <th>16589</th>\n",
       "      <td>16592</td>\n",
       "      <td>Chou Ezaru wa Akai Hana: Koi wa Tsuki ni Shiru...</td>\n",
       "      <td>PSV</td>\n",
       "      <td>2016.0</td>\n",
       "      <td>Action</td>\n",
       "      <td>dramatic create</td>\n",
       "      <td>0.00</td>\n",
       "      <td>0.00</td>\n",
       "      <td>0.01</td>\n",
       "      <td>0.0</td>\n",
       "      <td>0.01</td>\n",
       "    </tr>\n",
       "    <tr>\n",
       "      <th>16590</th>\n",
       "      <td>16593</td>\n",
       "      <td>Eiyuu Densetsu: Sora no Kiseki Material Collec...</td>\n",
       "      <td>PSP</td>\n",
       "      <td>2007.0</td>\n",
       "      <td>Role-Playing</td>\n",
       "      <td>Falcom Corporation</td>\n",
       "      <td>0.00</td>\n",
       "      <td>0.00</td>\n",
       "      <td>0.01</td>\n",
       "      <td>0.0</td>\n",
       "      <td>0.01</td>\n",
       "    </tr>\n",
       "    <tr>\n",
       "      <th>16591</th>\n",
       "      <td>16594</td>\n",
       "      <td>Myst IV: Revelation</td>\n",
       "      <td>PC</td>\n",
       "      <td>2004.0</td>\n",
       "      <td>Adventure</td>\n",
       "      <td>Ubisoft</td>\n",
       "      <td>0.01</td>\n",
       "      <td>0.00</td>\n",
       "      <td>0.00</td>\n",
       "      <td>0.0</td>\n",
       "      <td>0.01</td>\n",
       "    </tr>\n",
       "    <tr>\n",
       "      <th>16592</th>\n",
       "      <td>16595</td>\n",
       "      <td>Plushees</td>\n",
       "      <td>DS</td>\n",
       "      <td>2008.0</td>\n",
       "      <td>Simulation</td>\n",
       "      <td>Destineer</td>\n",
       "      <td>0.01</td>\n",
       "      <td>0.00</td>\n",
       "      <td>0.00</td>\n",
       "      <td>0.0</td>\n",
       "      <td>0.01</td>\n",
       "    </tr>\n",
       "    <tr>\n",
       "      <th>16593</th>\n",
       "      <td>16596</td>\n",
       "      <td>Woody Woodpecker in Crazy Castle 5</td>\n",
       "      <td>GBA</td>\n",
       "      <td>2002.0</td>\n",
       "      <td>Platform</td>\n",
       "      <td>Kemco</td>\n",
       "      <td>0.01</td>\n",
       "      <td>0.00</td>\n",
       "      <td>0.00</td>\n",
       "      <td>0.0</td>\n",
       "      <td>0.01</td>\n",
       "    </tr>\n",
       "    <tr>\n",
       "      <th>16594</th>\n",
       "      <td>16597</td>\n",
       "      <td>Men in Black II: Alien Escape</td>\n",
       "      <td>GC</td>\n",
       "      <td>2003.0</td>\n",
       "      <td>Shooter</td>\n",
       "      <td>Infogrames</td>\n",
       "      <td>0.01</td>\n",
       "      <td>0.00</td>\n",
       "      <td>0.00</td>\n",
       "      <td>0.0</td>\n",
       "      <td>0.01</td>\n",
       "    </tr>\n",
       "    <tr>\n",
       "      <th>16595</th>\n",
       "      <td>16598</td>\n",
       "      <td>SCORE International Baja 1000: The Official Game</td>\n",
       "      <td>PS2</td>\n",
       "      <td>2008.0</td>\n",
       "      <td>Racing</td>\n",
       "      <td>Activision</td>\n",
       "      <td>0.00</td>\n",
       "      <td>0.00</td>\n",
       "      <td>0.00</td>\n",
       "      <td>0.0</td>\n",
       "      <td>0.01</td>\n",
       "    </tr>\n",
       "    <tr>\n",
       "      <th>16596</th>\n",
       "      <td>16599</td>\n",
       "      <td>Know How 2</td>\n",
       "      <td>DS</td>\n",
       "      <td>2010.0</td>\n",
       "      <td>Puzzle</td>\n",
       "      <td>7G//AMES</td>\n",
       "      <td>0.00</td>\n",
       "      <td>0.01</td>\n",
       "      <td>0.00</td>\n",
       "      <td>0.0</td>\n",
       "      <td>0.01</td>\n",
       "    </tr>\n",
       "    <tr>\n",
       "      <th>16597</th>\n",
       "      <td>16600</td>\n",
       "      <td>Spirits &amp; Spells</td>\n",
       "      <td>GBA</td>\n",
       "      <td>2003.0</td>\n",
       "      <td>Platform</td>\n",
       "      <td>Wanadoo</td>\n",
       "      <td>0.01</td>\n",
       "      <td>0.00</td>\n",
       "      <td>0.00</td>\n",
       "      <td>0.0</td>\n",
       "      <td>0.01</td>\n",
       "    </tr>\n",
       "  </tbody>\n",
       "</table>\n",
       "</div>"
      ],
      "text/plain": [
       "        Rank                                               Name Platform  \\\n",
       "16588  16591                                   Mega Brain Boost       DS   \n",
       "16589  16592  Chou Ezaru wa Akai Hana: Koi wa Tsuki ni Shiru...      PSV   \n",
       "16590  16593  Eiyuu Densetsu: Sora no Kiseki Material Collec...      PSP   \n",
       "16591  16594                                Myst IV: Revelation       PC   \n",
       "16592  16595                                           Plushees       DS   \n",
       "16593  16596                 Woody Woodpecker in Crazy Castle 5      GBA   \n",
       "16594  16597                      Men in Black II: Alien Escape       GC   \n",
       "16595  16598   SCORE International Baja 1000: The Official Game      PS2   \n",
       "16596  16599                                         Know How 2       DS   \n",
       "16597  16600                                   Spirits & Spells      GBA   \n",
       "\n",
       "         Year         Genre              Publisher  NA_Sales  EU_Sales  \\\n",
       "16588  2008.0        Puzzle  Majesco Entertainment      0.01      0.00   \n",
       "16589  2016.0        Action        dramatic create      0.00      0.00   \n",
       "16590  2007.0  Role-Playing     Falcom Corporation      0.00      0.00   \n",
       "16591  2004.0     Adventure                Ubisoft      0.01      0.00   \n",
       "16592  2008.0    Simulation              Destineer      0.01      0.00   \n",
       "16593  2002.0      Platform                  Kemco      0.01      0.00   \n",
       "16594  2003.0       Shooter             Infogrames      0.01      0.00   \n",
       "16595  2008.0        Racing             Activision      0.00      0.00   \n",
       "16596  2010.0        Puzzle               7G//AMES      0.00      0.01   \n",
       "16597  2003.0      Platform                Wanadoo      0.01      0.00   \n",
       "\n",
       "       JP_Sales  Other_Sales  Global_Sales  \n",
       "16588      0.00          0.0          0.01  \n",
       "16589      0.01          0.0          0.01  \n",
       "16590      0.01          0.0          0.01  \n",
       "16591      0.00          0.0          0.01  \n",
       "16592      0.00          0.0          0.01  \n",
       "16593      0.00          0.0          0.01  \n",
       "16594      0.00          0.0          0.01  \n",
       "16595      0.00          0.0          0.01  \n",
       "16596      0.00          0.0          0.01  \n",
       "16597      0.00          0.0          0.01  "
      ]
     },
     "execution_count": 940,
     "metadata": {},
     "output_type": "execute_result"
    }
   ],
   "source": [
    "# Menampilkan 10  baris terakhir dari dataset\n",
    "print(\"Tampilan 10 baris terakhir dataset:\")\n",
    "\n",
    "df.tail(10)"
   ]
  },
  {
   "cell_type": "code",
   "execution_count": 941,
   "id": "ba9a689f",
   "metadata": {},
   "outputs": [
    {
     "name": "stdout",
     "output_type": "stream",
     "text": [
      "Informasi Awal Dataset:\n",
      "<class 'pandas.core.frame.DataFrame'>\n",
      "RangeIndex: 16598 entries, 0 to 16597\n",
      "Data columns (total 11 columns):\n",
      " #   Column        Non-Null Count  Dtype  \n",
      "---  ------        --------------  -----  \n",
      " 0   Rank          16598 non-null  int64  \n",
      " 1   Name          16598 non-null  object \n",
      " 2   Platform      16598 non-null  object \n",
      " 3   Year          16327 non-null  float64\n",
      " 4   Genre         16598 non-null  object \n",
      " 5   Publisher     16540 non-null  object \n",
      " 6   NA_Sales      16598 non-null  float64\n",
      " 7   EU_Sales      16598 non-null  float64\n",
      " 8   JP_Sales      16598 non-null  float64\n",
      " 9   Other_Sales   16598 non-null  float64\n",
      " 10  Global_Sales  16598 non-null  float64\n",
      "dtypes: float64(6), int64(1), object(4)\n",
      "memory usage: 1.4+ MB\n",
      "--------------------------------------------------\n",
      "informasi banyak nya data dan kolom :\n"
     ]
    },
    {
     "data": {
      "text/plain": [
       "(16598, 11)"
      ]
     },
     "execution_count": 941,
     "metadata": {},
     "output_type": "execute_result"
    }
   ],
   "source": [
    "# Menampilkan informasi umum mengenai dataset\n",
    "print(\"Informasi Awal Dataset:\")\n",
    "df.info()\n",
    "print(\"-\" * 50)\n",
    "\n",
    "print('informasi banyak nya data dan kolom :')\n",
    "df.shape  # digunakan untuk mengetahui dimensi dari sebuah pandas DataFrame, yaitu jumlah baris dan kolom."
   ]
  },
  {
   "cell_type": "markdown",
   "id": "e1c27080",
   "metadata": {},
   "source": [
    "setelah di screening dataset nya, informasi awal yang bisa di identifikasi sebelum melakukan proses cleaning data adalah :\n",
    "\n",
    "* ada nya missing value yang terdapat kolom 'Year' dan juga kolom 'Publisher'.\n",
    "* terdapat 16598 data dalam 11 kolom."
   ]
  },
  {
   "cell_type": "code",
   "execution_count": 942,
   "id": "bbc41ba5",
   "metadata": {},
   "outputs": [
    {
     "name": "stdout",
     "output_type": "stream",
     "text": [
      "Statistik Deskriptif Awal:\n"
     ]
    },
    {
     "data": {
      "application/vnd.microsoft.datawrangler.viewer.v0+json": {
       "columns": [
        {
         "name": "index",
         "rawType": "object",
         "type": "string"
        },
        {
         "name": "Rank",
         "rawType": "float64",
         "type": "float"
        },
        {
         "name": "Year",
         "rawType": "float64",
         "type": "float"
        },
        {
         "name": "NA_Sales",
         "rawType": "float64",
         "type": "float"
        },
        {
         "name": "EU_Sales",
         "rawType": "float64",
         "type": "float"
        },
        {
         "name": "JP_Sales",
         "rawType": "float64",
         "type": "float"
        },
        {
         "name": "Other_Sales",
         "rawType": "float64",
         "type": "float"
        },
        {
         "name": "Global_Sales",
         "rawType": "float64",
         "type": "float"
        }
       ],
       "ref": "67a0d12a-c3ab-4d0d-8999-a23488387201",
       "rows": [
        [
         "count",
         "16598.0",
         "16327.0",
         "16598.0",
         "16598.0",
         "16598.0",
         "16598.0",
         "16598.0"
        ],
        [
         "mean",
         "8300.605253645017",
         "2006.4064433147546",
         "0.26466742981082064",
         "0.14665200626581515",
         "0.077781660441017",
         "0.0480630196409206",
         "0.5374406555006628"
        ],
        [
         "std",
         "4791.853932896403",
         "5.828981114712805",
         "0.8166830292988796",
         "0.5053512312869116",
         "0.30929064808220297",
         "0.18858840291271461",
         "1.5550279355699124"
        ],
        [
         "min",
         "1.0",
         "1980.0",
         "0.0",
         "0.0",
         "0.0",
         "0.0",
         "0.01"
        ],
        [
         "25%",
         "4151.25",
         "2003.0",
         "0.0",
         "0.0",
         "0.0",
         "0.0",
         "0.06"
        ],
        [
         "50%",
         "8300.5",
         "2007.0",
         "0.08",
         "0.02",
         "0.0",
         "0.01",
         "0.17"
        ],
        [
         "75%",
         "12449.75",
         "2010.0",
         "0.24",
         "0.11",
         "0.04",
         "0.04",
         "0.47"
        ],
        [
         "max",
         "16600.0",
         "2020.0",
         "41.49",
         "29.02",
         "10.22",
         "10.57",
         "82.74"
        ]
       ],
       "shape": {
        "columns": 7,
        "rows": 8
       }
      },
      "text/html": [
       "<div>\n",
       "<style scoped>\n",
       "    .dataframe tbody tr th:only-of-type {\n",
       "        vertical-align: middle;\n",
       "    }\n",
       "\n",
       "    .dataframe tbody tr th {\n",
       "        vertical-align: top;\n",
       "    }\n",
       "\n",
       "    .dataframe thead th {\n",
       "        text-align: right;\n",
       "    }\n",
       "</style>\n",
       "<table border=\"1\" class=\"dataframe\">\n",
       "  <thead>\n",
       "    <tr style=\"text-align: right;\">\n",
       "      <th></th>\n",
       "      <th>Rank</th>\n",
       "      <th>Year</th>\n",
       "      <th>NA_Sales</th>\n",
       "      <th>EU_Sales</th>\n",
       "      <th>JP_Sales</th>\n",
       "      <th>Other_Sales</th>\n",
       "      <th>Global_Sales</th>\n",
       "    </tr>\n",
       "  </thead>\n",
       "  <tbody>\n",
       "    <tr>\n",
       "      <th>count</th>\n",
       "      <td>16598.000000</td>\n",
       "      <td>16327.000000</td>\n",
       "      <td>16598.000000</td>\n",
       "      <td>16598.000000</td>\n",
       "      <td>16598.000000</td>\n",
       "      <td>16598.000000</td>\n",
       "      <td>16598.000000</td>\n",
       "    </tr>\n",
       "    <tr>\n",
       "      <th>mean</th>\n",
       "      <td>8300.605254</td>\n",
       "      <td>2006.406443</td>\n",
       "      <td>0.264667</td>\n",
       "      <td>0.146652</td>\n",
       "      <td>0.077782</td>\n",
       "      <td>0.048063</td>\n",
       "      <td>0.537441</td>\n",
       "    </tr>\n",
       "    <tr>\n",
       "      <th>std</th>\n",
       "      <td>4791.853933</td>\n",
       "      <td>5.828981</td>\n",
       "      <td>0.816683</td>\n",
       "      <td>0.505351</td>\n",
       "      <td>0.309291</td>\n",
       "      <td>0.188588</td>\n",
       "      <td>1.555028</td>\n",
       "    </tr>\n",
       "    <tr>\n",
       "      <th>min</th>\n",
       "      <td>1.000000</td>\n",
       "      <td>1980.000000</td>\n",
       "      <td>0.000000</td>\n",
       "      <td>0.000000</td>\n",
       "      <td>0.000000</td>\n",
       "      <td>0.000000</td>\n",
       "      <td>0.010000</td>\n",
       "    </tr>\n",
       "    <tr>\n",
       "      <th>25%</th>\n",
       "      <td>4151.250000</td>\n",
       "      <td>2003.000000</td>\n",
       "      <td>0.000000</td>\n",
       "      <td>0.000000</td>\n",
       "      <td>0.000000</td>\n",
       "      <td>0.000000</td>\n",
       "      <td>0.060000</td>\n",
       "    </tr>\n",
       "    <tr>\n",
       "      <th>50%</th>\n",
       "      <td>8300.500000</td>\n",
       "      <td>2007.000000</td>\n",
       "      <td>0.080000</td>\n",
       "      <td>0.020000</td>\n",
       "      <td>0.000000</td>\n",
       "      <td>0.010000</td>\n",
       "      <td>0.170000</td>\n",
       "    </tr>\n",
       "    <tr>\n",
       "      <th>75%</th>\n",
       "      <td>12449.750000</td>\n",
       "      <td>2010.000000</td>\n",
       "      <td>0.240000</td>\n",
       "      <td>0.110000</td>\n",
       "      <td>0.040000</td>\n",
       "      <td>0.040000</td>\n",
       "      <td>0.470000</td>\n",
       "    </tr>\n",
       "    <tr>\n",
       "      <th>max</th>\n",
       "      <td>16600.000000</td>\n",
       "      <td>2020.000000</td>\n",
       "      <td>41.490000</td>\n",
       "      <td>29.020000</td>\n",
       "      <td>10.220000</td>\n",
       "      <td>10.570000</td>\n",
       "      <td>82.740000</td>\n",
       "    </tr>\n",
       "  </tbody>\n",
       "</table>\n",
       "</div>"
      ],
      "text/plain": [
       "               Rank          Year      NA_Sales      EU_Sales      JP_Sales  \\\n",
       "count  16598.000000  16327.000000  16598.000000  16598.000000  16598.000000   \n",
       "mean    8300.605254   2006.406443      0.264667      0.146652      0.077782   \n",
       "std     4791.853933      5.828981      0.816683      0.505351      0.309291   \n",
       "min        1.000000   1980.000000      0.000000      0.000000      0.000000   \n",
       "25%     4151.250000   2003.000000      0.000000      0.000000      0.000000   \n",
       "50%     8300.500000   2007.000000      0.080000      0.020000      0.000000   \n",
       "75%    12449.750000   2010.000000      0.240000      0.110000      0.040000   \n",
       "max    16600.000000   2020.000000     41.490000     29.020000     10.220000   \n",
       "\n",
       "        Other_Sales  Global_Sales  \n",
       "count  16598.000000  16598.000000  \n",
       "mean       0.048063      0.537441  \n",
       "std        0.188588      1.555028  \n",
       "min        0.000000      0.010000  \n",
       "25%        0.000000      0.060000  \n",
       "50%        0.010000      0.170000  \n",
       "75%        0.040000      0.470000  \n",
       "max       10.570000     82.740000  "
      ]
     },
     "execution_count": 942,
     "metadata": {},
     "output_type": "execute_result"
    }
   ],
   "source": [
    "# Menampilkan statistik deskriptif untuk kolom numerik\n",
    "print(\"Statistik Deskriptif Awal:\")\n",
    "df.describe()"
   ]
  },
  {
   "cell_type": "markdown",
   "id": "fa3509cb",
   "metadata": {},
   "source": [
    "Distribusi Penjualan Sangat Condong ke Kanan (Right-Skewed) untuk semua kolom penjualan (NA_Sales, EU_Sales, JP_Sales, Global_Sales):\n",
    "\n",
    "  * Mean > Median: Contohnya pada Global_Sales, rata-rata penjualan adalah 0.54 juta, sedangkan mediannya (nilai tengah) hanya 0.17 juta.\n",
    "\n",
    "  * Adanya Outlier Ekstrem: Sebagian besar (75%) game terjual di bawah 0.48 juta kopi. Namun, ada game yang terjual hingga 82.74 juta kopi (max).\n",
    "\n",
    "Artinya: Mayoritas besar video game yang dirilis sebenarnya tidak terjual dalam jumlah banyak. Namun, ada sekelompok kecil game blockbuster yang super-laris dan penjualannya sangat tinggi, yang secara signifikan menaikkan nilai rata-rata."
   ]
  },
  {
   "cell_type": "markdown",
   "id": "d7228603",
   "metadata": {},
   "source": [
    "## __*Data Cleaning*__"
   ]
  },
  {
   "cell_type": "markdown",
   "id": "d59f1c13",
   "metadata": {},
   "source": [
    "#### *Pemeriksaan Data*\n",
    "\n",
    "Data diperiksa tipe value pada setiap variabelnya, lalu diubah menjadi tipe yang dapat diproses."
   ]
  },
  {
   "cell_type": "code",
   "execution_count": 943,
   "id": "bad1f421",
   "metadata": {},
   "outputs": [
    {
     "name": "stdout",
     "output_type": "stream",
     "text": [
      "<class 'pandas.core.frame.DataFrame'>\n",
      "RangeIndex: 16598 entries, 0 to 16597\n",
      "Data columns (total 11 columns):\n",
      " #   Column        Non-Null Count  Dtype  \n",
      "---  ------        --------------  -----  \n",
      " 0   Rank          16598 non-null  int64  \n",
      " 1   Name          16598 non-null  object \n",
      " 2   Platform      16598 non-null  object \n",
      " 3   Year          16327 non-null  float64\n",
      " 4   Genre         16598 non-null  object \n",
      " 5   Publisher     16540 non-null  object \n",
      " 6   NA_Sales      16598 non-null  float64\n",
      " 7   EU_Sales      16598 non-null  float64\n",
      " 8   JP_Sales      16598 non-null  float64\n",
      " 9   Other_Sales   16598 non-null  float64\n",
      " 10  Global_Sales  16598 non-null  float64\n",
      "dtypes: float64(6), int64(1), object(4)\n",
      "memory usage: 1.4+ MB\n"
     ]
    }
   ],
   "source": [
    "# Memeriksa jenis data\n",
    "df.info()"
   ]
  },
  {
   "cell_type": "markdown",
   "id": "69996973",
   "metadata": {},
   "source": [
    "\n",
    "\n",
    "* Ubah tipe data kolom Year dari float64 menjadi int64\n",
    "\n",
    "* Mengisi missing value pada kolom 'Publisher' dengan 'Unknown'\n",
    "\n",
    "* periksa apakah ada data yang sama atau duplikat\n",
    "\n",
    "* pertimbangkan untuk mengubah kolom platform, publisher, dan genre menjadi category"
   ]
  },
  {
   "cell_type": "code",
   "execution_count": 944,
   "id": "7da2ee18",
   "metadata": {},
   "outputs": [
    {
     "name": "stdout",
     "output_type": "stream",
     "text": [
      "--- Membersihkan Data ---\n",
      "Jumlah baris duplikat: 0\n",
      "\n",
      "Informasi Dataset Setelah Dibersihkan:\n",
      "<class 'pandas.core.frame.DataFrame'>\n",
      "Index: 16327 entries, 0 to 16597\n",
      "Data columns (total 11 columns):\n",
      " #   Column        Non-Null Count  Dtype   \n",
      "---  ------        --------------  -----   \n",
      " 0   Rank          16327 non-null  int64   \n",
      " 1   Name          16327 non-null  object  \n",
      " 2   Platform      16327 non-null  category\n",
      " 3   Year          16327 non-null  int32   \n",
      " 4   Genre         16327 non-null  category\n",
      " 5   Publisher     16327 non-null  category\n",
      " 6   NA_Sales      16327 non-null  float64 \n",
      " 7   EU_Sales      16327 non-null  float64 \n",
      " 8   JP_Sales      16327 non-null  float64 \n",
      " 9   Other_Sales   16327 non-null  float64 \n",
      " 10  Global_Sales  16327 non-null  float64 \n",
      "dtypes: category(3), float64(5), int32(1), int64(1), object(1)\n",
      "memory usage: 1.1+ MB\n",
      "--------------------------------------------------\n"
     ]
    }
   ],
   "source": [
    "print(\"--- Membersihkan Data ---\")\n",
    "# Menangani missing values pada kolom 'Year' dengan menghapus barisnya\n",
    "df.dropna(subset=['Year'], inplace=True)\n",
    "\n",
    "# mengganti kolom publisher, platform, dan genre menjadi `category`\n",
    "kolom_kategori = ['Platform', 'Genre', 'Publisher']\n",
    "for kolom in kolom_kategori:\n",
    "  df[kolom] = df[kolom].astype('category')\n",
    "\n",
    "# Mengisi missing values pada kolom 'Publisher' dengan 'Unknown'\n",
    "df['Publisher'] = df['Publisher'].fillna('Unknown')\n",
    "\n",
    "# Mengubah tipe data kolom 'Year' menjadi integer\n",
    "df['Year'] = df['Year'].astype(int)\n",
    "\n",
    "# Memeriksa data duplikat\n",
    "duplicate_rows = df.duplicated().sum()\n",
    "print(f\"Jumlah baris duplikat: {duplicate_rows}\")\n",
    "\n",
    "# Menampilkan informasi dataset setelah cleaning\n",
    "print(\"\\nInformasi Dataset Setelah Dibersihkan:\")\n",
    "df.info()\n",
    "print(\"-\" * 50)"
   ]
  },
  {
   "cell_type": "markdown",
   "id": "8d95688f",
   "metadata": {},
   "source": [
    "`Tipe data sudah sesuai untuk diproses.`"
   ]
  },
  {
   "cell_type": "markdown",
   "id": "c6c66687",
   "metadata": {},
   "source": [
    "#### *Pemotongan Data*"
   ]
  },
  {
   "cell_type": "markdown",
   "id": "8fceee40",
   "metadata": {},
   "source": [
    "data yang dibutuhkan adalah data dari kolom genre, platform, dan penerbit yang paling sukses secara global, parameter nya dapat di perkirakan dengan menggunakan teknik slicing"
   ]
  },
  {
   "cell_type": "code",
   "execution_count": 945,
   "id": "7771ee2a",
   "metadata": {},
   "outputs": [
    {
     "data": {
      "application/vnd.microsoft.datawrangler.viewer.v0+json": {
       "columns": [
        {
         "name": "index",
         "rawType": "object",
         "type": "string"
        },
        {
         "name": "0",
         "rawType": "int64",
         "type": "integer"
        }
       ],
       "ref": "f3729ab9-0a92-4a44-942f-4a02c3cbd36a",
       "rows": [
        [
         "Rank",
         "15338"
        ],
        [
         "Name",
         "15338"
        ],
        [
         "Platform",
         "15338"
        ],
        [
         "Year",
         "15338"
        ],
        [
         "Genre",
         "15338"
        ],
        [
         "Publisher",
         "15338"
        ],
        [
         "NA_Sales",
         "15338"
        ],
        [
         "EU_Sales",
         "15338"
        ],
        [
         "JP_Sales",
         "15338"
        ],
        [
         "Other_Sales",
         "15338"
        ],
        [
         "Global_Sales",
         "15338"
        ]
       ],
       "shape": {
        "columns": 1,
        "rows": 11
       }
      },
      "text/plain": [
       "Rank            15338\n",
       "Name            15338\n",
       "Platform        15338\n",
       "Year            15338\n",
       "Genre           15338\n",
       "Publisher       15338\n",
       "NA_Sales        15338\n",
       "EU_Sales        15338\n",
       "JP_Sales        15338\n",
       "Other_Sales     15338\n",
       "Global_Sales    15338\n",
       "dtype: int64"
      ]
     },
     "execution_count": 945,
     "metadata": {},
     "output_type": "execute_result"
    }
   ],
   "source": [
    "df = df[df['Rank'] > 1000]\n",
    "\n",
    "df.count()"
   ]
  },
  {
   "cell_type": "markdown",
   "id": "7e6429c5",
   "metadata": {},
   "source": [
    "`Tersisa 15338 data dalam 11 kolom`"
   ]
  },
  {
   "cell_type": "markdown",
   "id": "e72f5777",
   "metadata": {},
   "source": [
    "#### *Missing value*"
   ]
  },
  {
   "cell_type": "markdown",
   "id": "29305452",
   "metadata": {},
   "source": [
    "Kita akan melihat apakah ada nilai yang hilang\n",
    "\n",
    "\n",
    "apakah ada missing value yang bisa di identifikasi."
   ]
  },
  {
   "cell_type": "code",
   "execution_count": 946,
   "id": "329167df",
   "metadata": {},
   "outputs": [
    {
     "data": {
      "application/vnd.microsoft.datawrangler.viewer.v0+json": {
       "columns": [
        {
         "name": "index",
         "rawType": "object",
         "type": "string"
        },
        {
         "name": "0",
         "rawType": "int64",
         "type": "integer"
        }
       ],
       "ref": "77829894-2cea-431f-a155-58a98f62880b",
       "rows": [
        [
         "Rank",
         "0"
        ],
        [
         "Name",
         "0"
        ],
        [
         "Platform",
         "0"
        ],
        [
         "Year",
         "0"
        ],
        [
         "Genre",
         "0"
        ],
        [
         "Publisher",
         "0"
        ],
        [
         "NA_Sales",
         "0"
        ],
        [
         "EU_Sales",
         "0"
        ],
        [
         "JP_Sales",
         "0"
        ],
        [
         "Other_Sales",
         "0"
        ],
        [
         "Global_Sales",
         "0"
        ]
       ],
       "shape": {
        "columns": 1,
        "rows": 11
       }
      },
      "text/plain": [
       "Rank            0\n",
       "Name            0\n",
       "Platform        0\n",
       "Year            0\n",
       "Genre           0\n",
       "Publisher       0\n",
       "NA_Sales        0\n",
       "EU_Sales        0\n",
       "JP_Sales        0\n",
       "Other_Sales     0\n",
       "Global_Sales    0\n",
       "dtype: int64"
      ]
     },
     "execution_count": 946,
     "metadata": {},
     "output_type": "execute_result"
    }
   ],
   "source": [
    "df.isnull().sum()"
   ]
  },
  {
   "cell_type": "markdown",
   "id": "81ef0ac9",
   "metadata": {},
   "source": [
    "Sudah tidak ada missing value. Data sudah bisa dieksplorasi."
   ]
  },
  {
   "cell_type": "markdown",
   "id": "18c54d30",
   "metadata": {},
   "source": [
    "## __*Exploration and Analysis*__"
   ]
  },
  {
   "cell_type": "markdown",
   "id": "bd473389",
   "metadata": {},
   "source": [
    "#### Visualisasi 1: Genre Game dengan Penjualan Global Tertinggi"
   ]
  },
  {
   "cell_type": "code",
   "execution_count": 947,
   "id": "3ead0a4a",
   "metadata": {},
   "outputs": [
    {
     "data": {
      "image/png": "[encoded data removed]",
      "text/plain": [
       "<Figure size 1200x700 with 1 Axes>"
      ]
     },
     "metadata": {},
     "output_type": "display_data"
    }
   ],
   "source": [
    "genre_sales = df.groupby('Genre', observed=True)['Global_Sales'].sum().sort_values(ascending=False).head(1000)\n",
    "plt.figure(figsize=(12, 7))\n",
    "sns.barplot(x=genre_sales.values, y=genre_sales.index, hue=genre_sales.index, palette='Blues_r', legend=False)\n",
    "plt.title('Top 10 Genre Game Berdasarkan Penjualan Global (dalam Jutaan)', fontsize=16)\n",
    "plt.xlabel('Penjualan Global (Jutaan Unit)', fontsize=12)\n",
    "plt.ylabel('Genre', fontsize=12)\n",
    "plt.grid(axis='x', linestyle='--', alpha=0.6)\n",
    "plt.show()"
   ]
  },
  {
   "cell_type": "markdown",
   "id": "060bec32",
   "metadata": {},
   "source": [
    "`Dari visualisasi di atas, terlihat jelas bahwa genre Action mendominasi pasar dengan total penjualan global tertinggi, diikuti oleh Sports dan Shooter. Genre Role-Playing dan Platform juga menunjukkan kinerja yang sangat kuat. Informasi ini sangat krusial bagi tim pengembangan, karena mengindikasikan bahwa game dengan genre-genre ini memiliki potensi pasar yang sangat besar.`"
   ]
  },
  {
   "cell_type": "markdown",
   "id": "ae67791c",
   "metadata": {},
   "source": [
    "#### Visualisasi 2 : Tren Penjualan Game Global dari Tahun ke Tahun"
   ]
  },
  {
   "cell_type": "code",
   "execution_count": 948,
   "id": "82d72e42",
   "metadata": {},
   "outputs": [
    {
     "data": {
      "image/png": "[encoded data removed]",
      "text/plain": [
       "<Figure size 1400x700 with 1 Axes>"
      ]
     },
     "metadata": {},
     "output_type": "display_data"
    }
   ],
   "source": [
    "yearly_sales = df.groupby('Year')['Global_Sales'].sum()\n",
    "plt.figure(figsize=(14, 7))\n",
    "plt.plot(yearly_sales.index, yearly_sales.values, marker='o', linestyle='-', color='dodgerblue')\n",
    "plt.title('Tren Penjualan Video Game Global (1980-2020)', fontsize=16)\n",
    "plt.xlabel('Tahun', fontsize=12)\n",
    "plt.ylabel('Penjualan Global (Jutaan Unit)', fontsize=12)\n",
    "plt.grid(True, linestyle='--', alpha=0.6)\n",
    "plt.xlim(1980, 2020)\n",
    "plt.show()"
   ]
  },
  {
   "cell_type": "markdown",
   "id": "ff002235",
   "metadata": {},
   "source": [
    "`Grafik menunjukkan pertumbuhan industri video game yang pesat, terutama sejak pertengahan tahun 1990-an. Puncak penjualan terjadi sekitar tahun 2008-2009, yang bertepatan dengan era keemasan konsol seperti Nintendo Wii dan PlayStation 3. Setelah itu, terjadi sedikit penurunan dan stabilisasi, yang mungkin disebabkan oleh pergeseran pasar ke game digital dan mobile yang tidak sepenuhnya tercakup dalam dataset ini. Meskipun demikian, tren jangka panjang menunjukkan industri yang sehat dan terus berkembang.`"
   ]
  },
  {
   "cell_type": "markdown",
   "id": "f47a4cd6",
   "metadata": {},
   "source": [
    "#### Visualisasi 3: platform game yang paling dominan di tiga negara yaitu jepang, eropa, dan amerika utara"
   ]
  },
  {
   "cell_type": "code",
   "execution_count": 949,
   "id": "3777befc",
   "metadata": {},
   "outputs": [
    {
     "data": {
      "image/png": "[encoded data removed]",
      "text/plain": [
       "<Figure size 1500x800 with 1 Axes>"
      ]
     },
     "metadata": {},
     "output_type": "display_data"
    }
   ],
   "source": [
    "# Agregasi penjualan per platform\n",
    "platform_sales = df.groupby('Platform', observed=True)[['NA_Sales', 'EU_Sales', 'JP_Sales']].sum()\n",
    "\n",
    "# Hitung total penjualan, dan ambil 10 platform teratas\n",
    "# Gunakan nlargest() untuk mendapatkan N baris dengan nilai terbesar di suatu kolom\n",
    "top_platforms = platform_sales.assign(Total=platform_sales.sum(axis=1)).nlargest(5, 'Total')\n",
    "\n",
    "# Plot data yang sudah disederhanakan dan diurutkan\n",
    "ax = top_platforms[['NA_Sales', 'EU_Sales', 'JP_Sales']].plot(\n",
    "    kind='bar', \n",
    "    stacked=True,\n",
    "    figsize=(15, 8),\n",
    "    color={'NA_Sales': 'indianred', 'EU_Sales': 'mediumseagreen', 'JP_Sales': 'cornflowerblue'}\n",
    ")\n",
    "\n",
    "# Memberi judul dan label yang sama\n",
    "ax.set_title('Total Penjualan 10 Platform Teratas Berdasarkan Komposisi Wilayah', fontsize=18, pad=20)\n",
    "ax.set_xlabel('Platform', fontsize=12)\n",
    "ax.set_ylabel('Penjualan (dalam Jutaan Unit)', fontsize=12)\n",
    "plt.xticks(rotation=45, ha='right')\n",
    "plt.legend(title='Wilayah')\n",
    "\n",
    "# Menampilkan plot\n",
    "plt.tight_layout()\n",
    "plt.show()"
   ]
  },
  {
   "cell_type": "markdown",
   "id": "7549e145",
   "metadata": {},
   "source": [
    "`Terdapat perbedaan preferensi platform yang jelas antar wilayah. Di Amerika Utara dan Eropa, platform dari Sony (PlayStation) dan Microsoft (Xbox) sangat dominan. Namun, di Jepang, platform buatan Nintendo seperti DS, NES, dan GameBoy memiliki pangsa pasar yang jauh lebih besar, menunjukkan loyalitas pasar lokal terhadap produk dalam negeri.`"
   ]
  },
  {
   "cell_type": "markdown",
   "id": "2724aa4b",
   "metadata": {},
   "source": [
    "### Visualisasi 4 : penerbit (publisher) yang memerbitkan game paling banyak"
   ]
  },
  {
   "cell_type": "code",
   "execution_count": null,
   "id": "44a6bb47",
   "metadata": {},
   "outputs": [
    {
     "data": {
      "image/png": "[encoded data removed]",
      "text/plain": [
       "<Figure size 1000x700 with 1 Axes>"
      ]
     },
     "metadata": {},
     "output_type": "display_data"
    }
   ],
   "source": [
    "# Agregasi platform\n",
    "publisher_releases = df['Publisher'].value_counts().head(10)\n",
    "\n",
    "# Urutkan data dari yang terkecil ke terbesar\n",
    "publisher_releases = publisher_releases.sort_values(ascending=True)\n",
    "\n",
    "# 2. Buat plot\n",
    "fig, ax = plt.subplots(figsize=(10, 7))\n",
    "\n",
    "# Membuat garis horizontal (stem)\n",
    "ax.hlines(\n",
    "    y=publisher_releases.index, \n",
    "    xmin=0, \n",
    "    xmax=publisher_releases.values,\n",
    "    color='skyblue',\n",
    "    alpha=0.7,\n",
    "    linewidth=2\n",
    ")\n",
    "\n",
    "# Membuat titik di ujung garis (dot)\n",
    "ax.scatter(\n",
    "    x=publisher_releases.values, \n",
    "    y=publisher_releases.index, \n",
    "    s=75, # Ukuran titik\n",
    "    color='dodgerblue',\n",
    "    alpha=1\n",
    ")\n",
    "\n",
    "# Memberi judul dan label\n",
    "ax.set_title('Top 10 Penerbit Game', fontsize=16, pad=15)\n",
    "ax.set_xlabel('Jumlah Game Dirilis', fontsize=12)\n",
    "ax.set_ylabel('Penerbit', fontsize=12)\n",
    "\n",
    "# Menghilangkan bingkai plot yang tidak perlu\n",
    "ax.spines['top'].set_visible(False)\n",
    "ax.spines['right'].set_visible(False)\n",
    "\n",
    "# Menampilkan grid hanya pada sumbu X untuk membantu pembacaan\n",
    "ax.grid(axis='x', linestyle='--', alpha=0.5)\n",
    "\n",
    "# Menampilkan plot\n",
    "plt.tight_layout()\n",
    "plt.show()"
   ]
  },
  {
   "cell_type": "markdown",
   "id": "2a14ff0c",
   "metadata": {},
   "source": [
    "`Electronic Arts (EA) adalah penerbit yang paling produktif dalam merilis game, diikuti oleh Activision dan Namco Bandai Games. Namun, jumlah rilisan tidak selalu berbanding lurus dengan total penjualan. Ini menunjukkan bahwa beberapa penerbit mungkin fokus pada kuantitas, sementara yang lain fokus pada kualitas atau beberapa judul blockbuster saja.`"
   ]
  },
  {
   "cell_type": "markdown",
   "id": "0d2dacb8",
   "metadata": {},
   "source": [
    "### Statistik Deskriptif 5 : Distribusi Penjualan Genre 'Action'"
   ]
  },
  {
   "cell_type": "code",
   "execution_count": 951,
   "id": "a0b113e5",
   "metadata": {},
   "outputs": [
    {
     "name": "stdout",
     "output_type": "stream",
     "text": [
      "Rata-rata (Mean) Penjualan Global: 0.30 juta\n",
      "Median Penjualan Global: 0.15 juta\n",
      "Standar Deviasi Penjualan Global: 0.36 juta\n",
      "Skewness: 1.92\n",
      "Kurtosis: 3.35\n",
      "\n"
     ]
    },
    {
     "data": {
      "image/png": "[encoded data removed]",
      "text/plain": [
       "<Figure size 1200x700 with 1 Axes>"
      ]
     },
     "metadata": {},
     "output_type": "display_data"
    }
   ],
   "source": [
    "# Tendensi Sentral dan Ukuran Sebaran\n",
    "mean_sales = df['Global_Sales'].mean()\n",
    "median_sales = df['Global_Sales'].median()\n",
    "std_sales = df['Global_Sales'].std()\n",
    "skew_sales = df['Global_Sales'].skew()\n",
    "kurt_sales = df['Global_Sales'].kurt()\n",
    "\n",
    "print(f\"Rata-rata (Mean) Penjualan Global: {mean_sales:.2f} juta\")\n",
    "print(f\"Median Penjualan Global: {median_sales:.2f} juta\")\n",
    "print(f\"Standar Deviasi Penjualan Global: {std_sales:.2f} juta\")\n",
    "print(f\"Skewness: {skew_sales:.2f}\")\n",
    "print(f\"Kurtosis: {kurt_sales:.2f}\\n\")\n",
    "\n",
    "\n",
    "# Visualisasi distribusi dengan Histogram dan KDE Plot\n",
    "# Kita fokus pada game dengan penjualan di bawah 2 juta untuk melihat distribusinya lebih jelas\n",
    "plt.figure(figsize=(12, 7))\n",
    "sns.histplot(df[df['Global_Sales'] < 2]['Global_Sales'], kde=True, bins=30)\n",
    "plt.title('Distribusi Penjualan Global (untuk Game < 2 Juta Unit)', fontsize=16, fontweight='bold')\n",
    "plt.xlabel('Penjualan Global (dalam jutaan)', fontsize=12)\n",
    "plt.ylabel('Jumlah Game', fontsize=12)\n",
    "plt.show()"
   ]
  },
  {
   "cell_type": "markdown",
   "id": "ea94614a",
   "metadata": {},
   "source": [
    "`Analisis :`\n",
    "\n",
    "`Distribusi data 'Global_Sales' sangat condong ke kanan (positive skewness), yang berarti sebagian besar game memiliki penjualan yang relatif rendah, namun ada beberapa game (outlier) dengan penjualan yang sangat tinggi yang 'menarik' nilai rata-rata ke atas. Nilai median (0.15 juta) jauh lebih rendah dari mean (0.30 juta), yang mengkonfirmasi hal ini. Standar deviasi yang besar (0.36 juta) juga menunjukkan variasi penjualan yang sangat lebar antar game.`"
   ]
  },
  {
   "cell_type": "markdown",
   "id": "cd2fdb05",
   "metadata": {},
   "source": [
    "### Statistik Inferensial 6 : Perbandingan Penjualan PS4 vs. Xbox One"
   ]
  },
  {
   "cell_type": "code",
   "execution_count": 952,
   "id": "19dc43da",
   "metadata": {},
   "outputs": [
    {
     "name": "stdout",
     "output_type": "stream",
     "text": [
      "Hasil Uji Hipotesis (Independent T-test): PS4 vs. Xbox One\n",
      "----------------------------------------------------------\n",
      "T-statistic: -1.0447\n",
      "P-value: 0.2968\n",
      "\n",
      "Keputusan: P-value lebih besar dari alpha (0.05), maka kita gagal menolak Hipotesis Nol.\n",
      "Kesimpulan: Tidak terdapat perbedaan yang signifikan secara statistik dalam penjualan global antara PS4 dan Xbox One.\n"
     ]
    }
   ],
   "source": [
    "ps4_sales = df[df['Platform'] == 'PS4']['Global_Sales']\n",
    "xone_sales = df[df['Platform'] == 'XOne']['Global_Sales']\n",
    "\n",
    "t_stat, p_value = stats.ttest_ind(ps4_sales, xone_sales, equal_var=False, nan_policy='omit')\n",
    "\n",
    "print(\"Hasil Uji Hipotesis (Independent T-test): PS4 vs. Xbox One\")\n",
    "print(\"----------------------------------------------------------\")\n",
    "print(f\"T-statistic: {t_stat:.4f}\")\n",
    "print(f\"P-value: {p_value:.4f}\")\n",
    "\n",
    "alpha = 0.05\n",
    "if p_value < alpha:\n",
    "    print(\"\\nKeputusan: P-value lebih kecil dari alpha (0.05), maka kita menolak Hipotesis Nol.\")\n",
    "    print(\"Kesimpulan: Terdapat perbedaan yang signifikan secara statistik dalam penjualan global antara PS4 dan Xbox One.\")\n",
    "else:\n",
    "    print(\"\\nKeputusan: P-value lebih besar dari alpha (0.05), maka kita gagal menolak Hipotesis Nol.\")\n",
    "    print(\"Kesimpulan: Tidak terdapat perbedaan yang signifikan secara statistik dalam penjualan global antara PS4 dan Xbox One.\")"
   ]
  },
  {
   "cell_type": "markdown",
   "id": "6b3076a5",
   "metadata": {},
   "source": [
    "## __*Conclusion*__"
   ]
  },
  {
   "cell_type": "markdown",
   "id": "6ec7ca01",
   "metadata": {},
   "source": [
    "Dari analisis yang telah dilakukan, dapat ditarik beberapa kesimpulan dan rekomendasi utama bagi klien:\n",
    "\n",
    "1.  **Dominasi Genre Tertentu**: Genre **Action** dan **Sports** adalah pasar terbesar dan paling aman untuk dimasuki jika menargetkan audiens global. Namun, persaingan di genre ini sangat ketat. Genre **Shooter** juga merupakan pasar yang sangat besar dan menguntungkan.\n",
    "\n",
    "2.  **Pentingnya Memahami Pasar Regional**: Strategi \"satu untuk semua\" tidak akan berhasil. Pasar **Amerika Utara dan Eropa** sangat reseptif terhadap genre Action, Sports, dan Shooter. Sebaliknya, pasar **Jepang** memiliki preferensi unik, dengan minat yang jauh lebih rendah pada genre Shooter dan lebih tinggi pada Role-Playing. Rekomendasi: lakukan riset pasar yang mendalam untuk setiap wilayah target.\n",
    "\n",
    "3.  **Puncak Industri dan Tren Masa Depan**: Puncak penjualan game fisik terjadi sekitar tahun **2008-2009**. Penurunan setelahnya menandakan pergeseran industri ke arah digital, mobile, dan model bisnis baru. Investor harus mempertimbangkan tren saat ini (seperti *live service games*, *indie games*, dan *cloud gaming*) yang tidak tercakup dalam dataset historis ini.\n",
    "\n",
    "4.  **Distribusi Penjualan yang Tidak Merata**: Industri game bersifat \"hit-driven\", di mana sebagian kecil game menghasilkan sebagian besar pendapatan. Investasi pada portofolio yang beragam (campuran game AAA berisiko tinggi dan game niche berisiko rendah) dapat menjadi strategi yang lebih bijaksana daripada bertaruh pada satu judul besar.\n",
    "\n",
    "5.  **Pemain Kunci Industri**: **Nintendo** tetap menjadi raksasa industri dengan kekuatan properti intelektual yang tak tertandingi. Berinvestasi atau bermitra dengan publisher besar seperti Nintendo, EA, dan Activision memberikan akses ke pasar yang sudah mapan, tetapi mungkin dengan margin yang lebih kecil.\n",
    "\n",
    "**Rekomendasi Final untuk Klien:**\n",
    "- Fokuskan investasi pada genre **Action** dan **Sports** untuk pasar Barat (Amerika Utara & Eropa).\n",
    "- Pertimbangkan untuk berinvestasi pada studio yang berspesialisasi dalam **Role-Playing Games (RPG)** jika menargetkan pasar Jepang.\n",
    "- Diversifikasikan portofolio investasi antara beberapa judul game, jangan hanya fokus pada satu game yang diharapkan menjadi blockbuster.\n",
    "- Lakukan analisis lebih lanjut pada tren industri game setelah tahun 2016, terutama terkait game digital dan mobile, untuk mendapatkan gambaran yang lebih lengkap tentang kondisi pasar saat ini."
   ]
  }
 ],
 "metadata": {
  "kernelspec": {
   "display_name": "h8_env",
   "language": "python",
   "name": "python3"
  },
  "language_info": {
   "codemirror_mode": {
    "name": "ipython",
    "version": 3
   },
   "file_extension": ".py",
   "mimetype": "text/x-python",
   "name": "python",
   "nbconvert_exporter": "python",
   "pygments_lexer": "ipython3",
   "version": "3.9.23"
  }
 },
 "nbformat": 4,
 "nbformat_minor": 5
}
